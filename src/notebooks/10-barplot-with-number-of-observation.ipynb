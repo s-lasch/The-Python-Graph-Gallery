{
 "cells": [
  {
   "cell_type": "markdown",
   "metadata": {},
   "source": [
    "The following example shows how to display the number of observation per group on a barplot. The `bar()` function of matplotlib is used to draw barplots with the following arguments:\n",
    "* `x` : The x coordinates of the bars. \n",
    "* `height` : The height(s) of the bars.\n",
    "* `width` : The width(s) of the bars.\n",
    "* `color` : The colors of the bar faces.\n",
    "* `label` : The labels of the bars.\n",
    "\n",
    "Note that the `legend()` function is used to add a legend, `xticks()` function is used to add labels of bars to the x axis, and the `text()` function is used to add text on the top of each bar.\n",
    "\n",
    "If you need to add the number of observation on top of each bar, it means that you have **several observations per group**. In this case, barplot is probably not the most appropriate method for visualising your data! Indeed, all the information behind each bar is **lost**.\n",
    "\n",
    "You should probably try to use a [violin plot](http://python-graph-gallery.com/violin-plot/) or a [boxplot](http://python-graph-gallery.com/boxplot/). Another solution can be to add [error bars](http://python-graph-gallery.com/8-add-confidence-interval-on-barplot/) at the top of each bar."
   ]
  },
  {
   "cell_type": "code",
   "execution_count": 2,
   "metadata": {},
   "outputs": [
    {
     "data": {
      "image/png": "[encoded data removed]",
      "text/plain": [
       "<Figure size 432x288 with 1 Axes>"
      ]
     },
     "metadata": {
      "needs_background": "light"
     },
     "output_type": "display_data"
    }
   ],
   "source": [
    "# library\n",
    "import matplotlib.pyplot as plt\n",
    " \n",
    "# Create bars\n",
    "barWidth = 0.9\n",
    "bars1 = [3, 3, 1]\n",
    "bars2 = [4, 2, 3]\n",
    "bars3 = [4, 6, 7, 10, 4, 4]\n",
    "bars4 = bars1 + bars2 + bars3\n",
    " \n",
    "# The X position of bars\n",
    "r1 = [1,5,9]\n",
    "r2 = [2,6,10]\n",
    "r3 = [3,4,7,8,11,12]\n",
    "r4 = r1 + r2 + r3\n",
    " \n",
    "# Create barplot\n",
    "plt.bar(r1, bars1, width = barWidth, color = (0.3,0.1,0.4,0.6), label='Alone')\n",
    "plt.bar(r2, bars2, width = barWidth, color = (0.3,0.5,0.4,0.6), label='With Himself')\n",
    "plt.bar(r3, bars3, width = barWidth, color = (0.3,0.9,0.4,0.6), label='With other genotype')\n",
    "# Note: the barplot could be created easily. See the barplot section for other examples.\n",
    " \n",
    "# Create legend\n",
    "plt.legend()\n",
    " \n",
    "# Text below each barplot with a rotation at 90°\n",
    "plt.xticks([r + barWidth for r in range(len(r4))], ['DD', 'with himself', 'with DC', 'with Silur', 'DC', 'with himself', 'with DD', 'with Silur', 'Silur', 'with himself', 'with DD', 'with DC'], rotation=90)\n",
    " \n",
    "# Create labels\n",
    "label = ['n = 6', 'n = 25', 'n = 13', 'n = 36', 'n = 30', 'n = 11', 'n = 16', 'n = 37', 'n = 14', 'n = 4', 'n = 31', 'n = 34']\n",
    " \n",
    "# Text on the top of each bar\n",
    "for i in range(len(r4)):\n",
    "    plt.text(x = r4[i]-0.5 , y = bars4[i]+0.1, s = label[i], size = 6)\n",
    "\n",
    "# Adjust the margins\n",
    "plt.subplots_adjust(bottom= 0.2, top = 0.98)\n",
    " \n",
    "# Show graphic\n",
    "plt.show()"
   ]
  }
 ],
 "metadata": {
  "chartType": "barplot",
  "description": "This post explains how to display the <b>number of observation</b> per group on a <a href='http://python-graph-gallery.com/barplot/'>barplot</a>. Just use the text() function of <a href='https://python-graph-gallery.com/matplotlib/'>matplotlib</a> to add the label one by one in a loop.",
  "family": "ranking",
  "kernelspec": {
   "display_name": "Python 3",
   "language": "python",
   "name": "python3"
  },
  "keywords": "python, chart, plot, seaborn, matplotlib, barplot, label",
  "language_info": {
   "codemirror_mode": {
    "name": "ipython",
    "version": 3
   },
   "file_extension": ".py",
   "mimetype": "text/x-python",
   "name": "python",
   "nbconvert_exporter": "python",
   "pygments_lexer": "ipython3",
   "version": "3.7.3"
  },
  "seoDescription": "Showing labels of each bar in a barplot using matplotlib",
  "slug": "10-barplot-with-number-of-observation",
  "title": "Barplot with number of observation"
 },
 "nbformat": 4,
 "nbformat_minor": 4
}
