{
 "cells": [
  {
   "cell_type": "markdown",
   "metadata": {},
   "source": [
    "This example shows probably the most basic [barplot](http://python-graph-gallery.com/barplot/) you can make with python and [matplotlib](http://python-graph-gallery.com/matplotlib/). The `bar()` function is used with the following parameters:\n",
    "* `x` : The x coordinates of the bars. (x_pos in the example)\n",
    "* `height` : The height(s) of the bars."
   ]
  },
  {
   "cell_type": "code",
   "execution_count": 2,
   "metadata": {},
   "outputs": [
    {
     "data": {
      "image/png": "[encoded data removed]",
      "text/plain": [
       "<Figure size 432x288 with 1 Axes>"
      ]
     },
     "metadata": {
      "needs_background": "light"
     },
     "output_type": "display_data"
    }
   ],
   "source": [
    "# Libraries\n",
    "import numpy as np\n",
    "import matplotlib.pyplot as plt\n",
    " \n",
    "# Create dataset\n",
    "height = [3, 12, 5, 18, 45]\n",
    "bars = ('A', 'B', 'C', 'D', 'E')\n",
    "x_pos = np.arange(len(bars))\n",
    " \n",
    "# Create bars\n",
    "plt.bar(x_pos, height)\n",
    " \n",
    "# Create names on the x-axis\n",
    "plt.xticks(x_pos, bars)\n",
    " \n",
    "# Show graphic\n",
    "plt.show()"
   ]
  }
 ],
 "metadata": {
  "chartType": "barplot",
  "description": "This post describes how to build a <b>basic barplot</b> using <a href='https://python-graph-gallery.com/matplotlib/'>matplotlib</a>.",
  "family": "ranking",
  "kernelspec": {
   "display_name": "Python 3",
   "language": "python",
   "name": "python3"
  },
  "keywords": "python, chart, plot, seaborn, matplotlib, barplot, bar",
  "language_info": {
   "codemirror_mode": {
    "name": "ipython",
    "version": 3
   },
   "file_extension": ".py",
   "mimetype": "text/x-python",
   "name": "python",
   "nbconvert_exporter": "python",
   "pygments_lexer": "ipython3",
   "version": "3.7.3"
  },
  "seoDescription": "Plotting a basic barplot using matplotlib",
  "slug": "1-basic-barplot",
  "title": "Basic Barplot using Matplotlib"
 },
 "nbformat": 4,
 "nbformat_minor": 4
}
